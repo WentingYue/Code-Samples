{
 "cells": [
  {
   "cell_type": "code",
   "execution_count": 1,
   "metadata": {},
   "outputs": [],
   "source": [
    "import pandas as pd\n",
    "from datetime import datetime, timedelta \n",
    "import ast\n",
    "import urllib.request as urllib\n",
    "import json\n",
    "from retrying import retry\n",
    "\n",
    "# suppress all warning, for formatting issues\n",
    "import warnings\n",
    "warnings.filterwarnings('ignore')"
   ]
  },
  {
   "cell_type": "markdown",
   "metadata": {},
   "source": [
    "This is a scrapper that will scrap the data for the number of movies that the cast have casted prior to a certain date from TMDB. The scrapper take in the cast id and a specific date, it will return the number of movies the cast have casted prior to this. Thus, some basic data merging and formatting will be done so that the scrapper will work as desired."
   ]
  },
  {
   "cell_type": "code",
   "execution_count": 2,
   "metadata": {},
   "outputs": [],
   "source": [
    "datas = pd.read_csv(\"https://media.githubusercontent.com/media/Eric-szh/Eric-szh.github.io/main/movies_metadata.csv\", na_values=[0,\"[]\"])\n",
    "# remove all the adult movies\n",
    "datas = datas[datas[\"adult\"] != \"True\"]\n",
    "# drop some unnecessay columns\n",
    "datas = datas.drop(['adult', 'belongs_to_collection','homepage','overview','poster_path','tagline',\n",
    "                    'video','title','popularity','vote_count','vote_average','status','spoken_languages'], axis=1)"
   ]
  },
  {
   "cell_type": "markdown",
   "metadata": {},
   "source": [
    "drop all movies containing NaN"
   ]
  },
  {
   "cell_type": "code",
   "execution_count": 3,
   "metadata": {},
   "outputs": [],
   "source": [
    "data_step_1 = datas.dropna()"
   ]
  },
  {
   "cell_type": "code",
   "execution_count": 4,
   "metadata": {},
   "outputs": [],
   "source": [
    "# 3 functions that is used to extract day, month, year out of the string \n",
    "def return_month(date_str):\n",
    "    # an advanced module that can generate a date object based on the string input\n",
    "    date = datetime.strptime(date_str, '%Y-%m-%d')\n",
    "    return date.strftime('%m')\n",
    "def return_day(date_str):\n",
    "    date = datetime.strptime(date_str, '%Y-%m-%d')\n",
    "    return date.strftime('%d')\n",
    "def return_year(date_str):\n",
    "    date = datetime.strptime(date_str, '%Y-%m-%d')\n",
    "    return date.strftime('%Y')"
   ]
  },
  {
   "cell_type": "markdown",
   "metadata": {},
   "source": [
    "mapping the release date column using the function defined, thus extracting the date"
   ]
  },
  {
   "cell_type": "code",
   "execution_count": 5,
   "metadata": {},
   "outputs": [],
   "source": [
    "data_step_1[\"year\"] = data_step_1[\"release_date\"].map(return_year)\n",
    "data_step_1[\"month\"] = data_step_1[\"release_date\"].map(return_month)\n",
    "data_step_1[\"day\"] = data_step_1[\"release_date\"].map(return_day)\n"
   ]
  },
  {
   "cell_type": "code",
   "execution_count": 6,
   "metadata": {},
   "outputs": [],
   "source": [
    "cast = pd.read_csv(\"https://media.githubusercontent.com/media/Eric-szh/Eric-szh.github.io/main/credits.csv\", na_values=\"[]\")"
   ]
  },
  {
   "cell_type": "code",
   "execution_count": 7,
   "metadata": {},
   "outputs": [],
   "source": [
    "data_step_1[\"id\"] = data_step_1[\"id\"].astype(int)\n",
    "# combine the two dataframe so it is easier to map\n",
    "data_step_2 = pd.merge(data_step_1, cast[[\"cast\",\"id\"]], on = \"id\")"
   ]
  },
  {
   "cell_type": "markdown",
   "metadata": {},
   "source": [
    "drop all movies containing NaN now"
   ]
  },
  {
   "cell_type": "code",
   "execution_count": 8,
   "metadata": {},
   "outputs": [],
   "source": [
    "data_step_2 = data_step_2.dropna()"
   ]
  },
  {
   "cell_type": "code",
   "execution_count": 9,
   "metadata": {},
   "outputs": [],
   "source": [
    "def get_id_and_year(series):\n",
    "    idd = series[\"cast\"]\n",
    "    # an advanced module that transfer string indicating a python list to real python list\n",
    "    real_idd = ast.literal_eval(idd)\n",
    "    if(real_idd == []):\n",
    "        print(\"shoot\")\n",
    "    year = series[\"release_date\"]\n",
    "    # a middle data used for scrapping\n",
    "    # this will gives the id of the main actor and the year of releasing the film\n",
    "    return (real_idd[0][\"id\"], year)"
   ]
  },
  {
   "cell_type": "markdown",
   "metadata": {},
   "source": [
    "mapping id and filming year into the dataframe, prepare for scrapping"
   ]
  },
  {
   "cell_type": "code",
   "execution_count": 10,
   "metadata": {},
   "outputs": [],
   "source": [
    "data_step_2[\"ids_and_years\"] = data_step_2.apply(get_id_and_year, axis = 1)"
   ]
  },
  {
   "cell_type": "code",
   "execution_count": 11,
   "metadata": {},
   "outputs": [],
   "source": [
    "# an advanced module that will retry if it falied\n",
    "# will throw the exception after failed five times in a row\n",
    "# for each faliue will wait for 2s before next try\n",
    "# this will make sure that scrapping don't stop beacuse network flutuation\n",
    "@retry(stop_max_attempt_number=5, wait_fixed=2000)\n",
    "def get_url(url_get):\n",
    "    html = urllib.urlopen(url_get)\n",
    "    return html\n",
    "\n",
    "# the main function that take care for the scrapping\n",
    "# taking in a tuple of (id, year_of_release)\n",
    "# return the number of movie that the actor have casted piror to the release of the movie\n",
    "def return_num_of_act(tupleple):\n",
    "    (idd, date) = tupleple\n",
    "    print(\"doing id: \", idd)\n",
    "    # again store the date as an date object\n",
    "    release_date = datetime.strptime(date, '%Y-%m-%d')\n",
    "    html = None\n",
    "    # try to scrape the data, prepare for any exception and returns zero if encountered any\n",
    "    try:\n",
    "        html = get_url(\"https://api.themoviedb.org/3/person/\"+str(idd)+\"/movie_credits?api_key=9139d613c8dc188efc20bf6d20e4d463&language=en-US\")\n",
    "    except Exception as e:\n",
    "        print(\"Shoot, we have\", e)\n",
    "    finally:\n",
    "        if (html == None):\n",
    "            return 0\n",
    "    # as api will return a json, json.loads is used to convert the string to a usable dict\n",
    "    reuslt = json.loads(html.read())\n",
    "    num = 0\n",
    "    for movie in reuslt[\"cast\"]:\n",
    "        # check if the actor have acted any movie\n",
    "        if \"release_date\" in movie:\n",
    "            # check if the movie have an release date\n",
    "            if (movie[\"release_date\"] != \"\"):\n",
    "                movie_date = datetime.strptime(movie[\"release_date\"], '%Y-%m-%d')\n",
    "                # a difference in time that can be achieved by the date object\n",
    "                # a positive difference means that the other movie (movie_date) is filmed before this movie (release_date)\n",
    "                difference = release_date - movie_date\n",
    "                # zero differences, act like a 0\n",
    "                zero = timedelta()\n",
    "\n",
    "                if (difference > zero):\n",
    "                    num += 1\n",
    "    print(\"it have: \", num)\n",
    "    return num"
   ]
  },
  {
   "cell_type": "code",
   "execution_count": null,
   "metadata": {},
   "outputs": [],
   "source": [
    "# scrapping and storing the data through mapping\n",
    "data_step_2[\"nums_of_first_actor\"] = data_step_2[\"ids_and_years\"].apply(return_num_of_act)\n",
    "data_step_2[[\"id\", \"nums_of_first_actor\"]].to_csv(\"nums_of_first_actor.csv\", index=False)\n",
    "# I didn't execute this cell as this tooks a long time to scrap\n",
    "# if you wish to see how it works, you can execute it yourself"
   ]
  },
  {
   "cell_type": "code",
   "execution_count": null,
   "metadata": {},
   "outputs": [],
   "source": []
  }
 ],
 "metadata": {
  "kernelspec": {
   "display_name": "Python 3",
   "language": "python",
   "name": "python3"
  },
  "language_info": {
   "codemirror_mode": {
    "name": "ipython",
    "version": 3
   },
   "file_extension": ".py",
   "mimetype": "text/x-python",
   "name": "python",
   "nbconvert_exporter": "python",
   "pygments_lexer": "ipython3",
   "version": "3.8.5"
  }
 },
 "nbformat": 4,
 "nbformat_minor": 4
}
